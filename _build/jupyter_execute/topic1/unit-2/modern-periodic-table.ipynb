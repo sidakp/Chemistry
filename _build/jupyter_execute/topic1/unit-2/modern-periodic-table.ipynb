{
 "cells": [
  {
   "cell_type": "markdown",
   "metadata": {},
   "source": [
    "# The Modern Periodic Table\n",
    "\n",
    "`````{admonition} Specification Point\n",
    ":class: note\n",
    "4.1.2.1 The Periodic Table\n",
    "`````"
   ]
  },
  {
   "cell_type": "markdown",
   "metadata": {},
   "source": [
    "The **periodic table** is a systematic arrangement of all the known elements. Each element is placed in order of its **atomic (proton) number**, ensuring that elements with similar chemical properties align in vertical columns called **groups** and horizontal rows called **periods**.\n",
    "\n",
    "## Atomic Number and Electron Arrangement\n",
    "\n",
    "- **Atomic (Proton) Number**  \n",
    "  The atomic number defines how many **protons** each atom of an element has in its nucleus. Since atoms are neutral overall, the number of **electrons** matches the atomic number.\n",
    "  \n",
    "- **Electron Arrangement**  \n",
    "  Electrons are arranged in **shells** (energy levels) around the nucleus. The arrangement of these electrons determines an element’s **chemical behavior**.\n",
    "\n",
    "```{admonition} Quick Recap on Notation\n",
    ":class: note\n",
    "- The **1st shell** can hold up to 2 electrons.\n",
    "- The **2nd shell** can hold up to 8 electrons.\n",
    "- The **3rd shell** can also hold up to 8 electrons."
   ]
  },
  {
   "cell_type": "markdown",
   "metadata": {},
   "source": [
    "## Groups in the Periodic Table\n",
    "\n",
    "- **Group Number**  \n",
    "  Elements in the same group share the same number of outer-shell electrons.\n",
    "\n",
    "- **Similar Chemical Properties**\n",
    "  Because an element’s reactivity and bonding often depend on its outer electrons, elements in a group exhibit similar reactions and form similar compounds.\n",
    "\n",
    "### Example\n",
    "\n",
    "**Group 1:** All have 1 electron in their outer shell, making them highly reactive metals (e.g., lithium, sodium, potassium).\n",
    "\n",
    "**Group 7:** All have 7 electrons in their outer shell; these are the halogens, known for forming salts with metals."
   ]
  },
  {
   "cell_type": "markdown",
   "metadata": {},
   "source": []
  }
 ],
 "metadata": {
  "language_info": {
   "codemirror_mode": {
    "name": "ipython",
    "version": 3
   },
   "file_extension": ".py",
   "mimetype": "text/x-python",
   "name": "python",
   "nbconvert_exporter": "python",
   "pygments_lexer": "ipython3",
   "version": "3.7.7"
  }
 },
 "nbformat": 4,
 "nbformat_minor": 2
}