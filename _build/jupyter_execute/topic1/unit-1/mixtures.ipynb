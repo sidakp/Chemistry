{
 "cells": [
  {
   "cell_type": "markdown",
   "metadata": {},
   "source": [
    "# Mixtures\n",
    "\n",
    "`````{admonition} Specification Point\n",
    ":class: note\n",
    "4.1.1.2 Mixtures\n",
    "`````\n",
    "\n",
    "## Definition of a Mixture\n",
    "**Mixture:** **Two or more substances** (elements or compounds) that are **not chemically bonded** together. \n",
    "\n",
    "Each substance in a mixture keeps its own properties, and they can be present in **variable proportions**.\n",
    "\n",
    "### Key Points\n",
    "- Mixtures do **not** have a fixed composition (for example, air is a mixture of gases in varying amounts).\n",
    "- The components of a mixture can often be **separated by physical means** rather than chemical reactions.\n",
    "- Mixtures can be made from elements, compounds, or both.\n",
    "\n",
    "```{admonition} Exam Reminder\n",
    ":class: tip\n",
    "In **AQA GCSE Chemistry**, remember that **mixtures** differ from **compounds** because their components are **not** chemically bonded. This means **no** new substance is formed when you create a mixture.\n"
   ]
  },
  {
   "cell_type": "markdown",
   "metadata": {},
   "source": [
    "## Separation Techniques\n",
    "\n",
    "Mixtures can be separated by **physical means**, meaning we do not have to perform a chemical reaction to separate them. The methods that you need to know about are:\n",
    "\n",
    "1. Filtration\n",
    "2. Simple Distillation\n",
    "3. Fractional Distillation\n",
    "4. Crystallisation\n",
    "5. Paper Chromatography"
   ]
  },
  {
   "cell_type": "markdown",
   "metadata": {},
   "source": [
    "## Comparing Compounds and Mixtures\n",
    "\n",
    "| Aspect              | Compounds                                                 | Mixtures                                                       |\n",
    "|---------------------|-----------------------------------------------------------|----------------------------------------------------------------|\n",
    "| Composition         | Fixed ratio of elements (chemical formula)                | Variable proportions; no fixed formula                          |\n",
    "| Separation Method   | Requires chemical separation (e.g., electrolysis)         | Physical methods (e.g., filtration, distillation)              |\n",
    "| Properties          | Often very different from constituent elements            | Retain many individual properties of each component            |\n",
    "| Formation           | Occurs via chemical bonding (reactions)                   | Occurs by physically mixing; no chemical bonds form            |"
   ]
  },
  {
   "cell_type": "markdown",
   "metadata": {},
   "source": [
    "## Key Definitions\n",
    "\n",
    "For this sub-unit some key definitions used across all separation techniques are listed here:\n",
    "\n",
    "1. **Soluble**: A substance (solute) which **is able** to be dissolved in a liquid.\n",
    "2. **Insoluble**: A substance (solute) which **not able** to be dissolved in a liquid.\n",
    "3. **Solvent**: A substance able to dissolve other substances (Example: Water).\n",
    "4. **Solution**: One or more solutes dissolved in a solvent.\n",
    "5. **Homogenous Liquids**: Two or more liquids that mix without separation (To explain further, oil and water is an example of a **heterogenous mixture** as they do not mix with each other)."
   ]
  },
  {
   "cell_type": "markdown",
   "metadata": {},
   "source": []
  }
 ],
 "metadata": {
  "language_info": {
   "codemirror_mode": {
    "name": "ipython",
    "version": 3
   },
   "file_extension": ".py",
   "mimetype": "text/x-python",
   "name": "python",
   "nbconvert_exporter": "python",
   "pygments_lexer": "ipython3",
   "version": "3.7.7"
  }
 },
 "nbformat": 4,
 "nbformat_minor": 2
}