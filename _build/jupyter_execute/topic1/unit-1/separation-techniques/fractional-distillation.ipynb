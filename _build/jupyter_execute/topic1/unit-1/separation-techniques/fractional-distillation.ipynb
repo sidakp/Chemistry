{
 "cells": [
  {
   "cell_type": "markdown",
   "metadata": {},
   "source": [
    "# Fractional Distillation\n",
    "\n",
    "Fractional Distillation is used to separate two or more **[homogenous liquids](/topic1/unit-1/mixtures.ipynb)** with different boiling points. A common example of this type of mixture is water and ethanol. \n",
    "\n",
    "## Apparatus\n",
    "\n",
    "```{figure} figure-4.jpg\n",
    "---\n",
    "scale: 33%\n",
    "---\n",
    "Fractional Distillation Apparatus (Diagrams made in [Chemix](https://chemix.org))\n",
    "```"
   ]
  },
  {
   "cell_type": "markdown",
   "metadata": {},
   "source": [
    "## Explanation\n",
    "\n",
    "1. Two liquids with different boiling points are mixed and placed in the round bottom flask.\n",
    "2. When heated with a Bunsen burner, the liquid with the lower boiling point (Ethanol in this case $~76^{\\circ}C$ ) will begin to evaporate. This is the temperature the system must be held at.\n",
    "3. The ethanol vapour rises up the fractionating column and enters the condenser to return to liquid state.\n",
    "4. The ethanol is collected in the conical flask.\n",
    "\n",
    "```{admonition} Note\n",
    ":class: note\n",
    "Please do not assume that ethanol is yellow as indicated in the figure. Ethanol is actually colourless and transparent. The liquid is coloured for clarity and to differentiate ethanol from the solution in the round bottom flask."
   ]
  },
  {
   "cell_type": "markdown",
   "metadata": {},
   "source": []
  }
 ],
 "metadata": {
  "language_info": {
   "codemirror_mode": {
    "name": "ipython",
    "version": 3
   },
   "file_extension": ".py",
   "mimetype": "text/x-python",
   "name": "python",
   "nbconvert_exporter": "python",
   "pygments_lexer": "ipython3",
   "version": "3.7.7"
  }
 },
 "nbformat": 4,
 "nbformat_minor": 2
}