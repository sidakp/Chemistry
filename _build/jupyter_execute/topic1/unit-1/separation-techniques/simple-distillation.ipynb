{
 "cells": [
  {
   "cell_type": "markdown",
   "metadata": {},
   "source": [
    "# Simple Distillation\n",
    "\n",
    "Simple Distillation is used to separate a **[soluble solid](/topic1/unit-1/mixtures.ipynb)** from a **liquid [(solvent)](/topic1/unit-1/mixtures.ipynb)**. A common example of this type of mixture is saltwater. \n",
    "\n",
    "## Apparatus\n",
    "\n",
    "```{figure} figure-3.jpg\n",
    "---\n",
    "scale: 30%\n",
    "---\n",
    "Simple Distillation Apparatus (Diagrams made in [Chemix](https://chemix.org))\n",
    "```"
   ]
  },
  {
   "cell_type": "markdown",
   "metadata": {},
   "source": [
    "## Explanation\n",
    "\n",
    "1. Pour the mixture into a round bottom flask\n",
    "2. Heat the mixture with a Bunsen burner to bring the solvent to a boil\n",
    "3. The vapour enters the Liebig condenser and is condensed back into a liquid\n",
    "4. The pure liquid is left in the conical flask and the solid remains in the round bottom flask.\n",
    "\n",
    "The liebig condenser is likely the hardest part of this diagram. To explain in further detail, cold water is funneled through the entry point shown on figure 3. This causes the hot water vapour to cool down, allowing it to return to a liquid. The water that exits through the top exit point is **hot** as the heat energy is **transferred** from the water vapour to the condenser."
   ]
  },
  {
   "cell_type": "markdown",
   "metadata": {},
   "source": [
    "`````{admonition} Exam Note\n",
    ":class: tip\n",
    "The thermometer will show the boiling point of the solvent used. For example, if water is the chosen solvent, then the thermomenter will show a reading of around $ 100^{\\circ}C $.\n",
    "`````\n"
   ]
  },
  {
   "cell_type": "markdown",
   "metadata": {},
   "source": []
  }
 ],
 "metadata": {
  "language_info": {
   "codemirror_mode": {
    "name": "ipython",
    "version": 3
   },
   "file_extension": ".py",
   "mimetype": "text/x-python",
   "name": "python",
   "nbconvert_exporter": "python",
   "pygments_lexer": "ipython3",
   "version": "3.7.7"
  }
 },
 "nbformat": 4,
 "nbformat_minor": 2
}