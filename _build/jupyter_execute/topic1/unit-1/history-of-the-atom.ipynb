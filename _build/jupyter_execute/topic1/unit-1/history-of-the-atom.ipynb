{
 "cells": [
  {
   "cell_type": "markdown",
   "metadata": {},
   "source": [
    "# History of the Atom\n",
    "\n",
    "`````{admonition} Specification Point\n",
    ":class: note\n",
    "4.1.1.3 The Development of the Model of the Atom (Also in GCSE Physics)\n",
    "`````"
   ]
  },
  {
   "cell_type": "markdown",
   "metadata": {},
   "source": [
    "## John Dalton\n",
    "- Proposed that **atoms** are tiny, indivisible spheres.\n",
    "- Believed each element’s atoms were identical but different from those of other elements.\n",
    "- Laid the foundation for viewing matter as composed of discrete units (atoms), though he had **no idea** about subatomic particles.\n",
    "\n",
    "## J. J. Thomson\n",
    "- Discovered the **electron** in 1897 using cathode ray experiments.\n",
    "- Suggested the **plum pudding model** of the atom:\n",
    "  - Concluded that the whole atom is **positively charged** with **negatively charged electrons** scattered randomly throughout\n",
    "- Marked the first evidence that atoms contained smaller, **negatively charged** components.\n",
    "\n",
    "## Ernest Rutherford\n",
    "- Performed the **alpha particle scattering experiment** with Geiger and Marsden (early 1900s).\n",
    "- Fired positively charged alpha particles at a thin gold foil.  \n",
    "- **Three key conclusions** from the scattering results:\n",
    "  1. **Most** alpha particles passed straight through → the atom is mostly **empty space**.\n",
    "  2. A small number **deflected** → there is a **concentrated positive charge** (nucleus).\n",
    "  3. Very few reflected straight back → the **nucleus** is **dense** and relatively small.\n",
    "- Replaced the plum pudding model with the **nuclear model**, where electrons orbit a **central nucleus**.\n",
    "\n",
    "## Niels Bohr\n",
    "- Refined the nuclear model by proposing **electrons move in fixed orbits (shells)** around the nucleus.\n",
    "- Calculations matched experimental data (e.g., atomic emission spectra).\n",
    "- This **planetary model** explained why electrons don’t spiral into the nucleus—they occupy **quantized energy levels**.\n",
    "\n",
    "## James Chadwick\n",
    "- Provided conclusive evidence for the **neutron** (1932).\n",
    "- Showed that the nucleus also contained **uncharged** particles with a mass similar to protons.\n",
    "- His discovery explained the **discrepancy** between atomic number (protons) and atomic mass (which also accounts for neutrons).\n",
    "\n",
    "Further experimental detail is not needed for James Chadwick.\n"
   ]
  },
  {
   "cell_type": "markdown",
   "metadata": {},
   "source": []
  }
 ],
 "metadata": {
  "language_info": {
   "codemirror_mode": {
    "name": "ipython",
    "version": 3
   },
   "file_extension": ".py",
   "mimetype": "text/x-python",
   "name": "python",
   "nbconvert_exporter": "python",
   "pygments_lexer": "ipython3",
   "version": "3.7.7"
  }
 },
 "nbformat": 4,
 "nbformat_minor": 2
}