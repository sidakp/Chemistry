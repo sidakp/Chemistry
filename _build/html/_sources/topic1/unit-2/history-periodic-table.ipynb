{
 "cells": [
  {
   "cell_type": "markdown",
   "metadata": {},
   "source": [
    "# History of the Periodic Table\n",
    "\n",
    "`````{admonition} Specification Point\n",
    ":class: note\n",
    "4.1.2.2 Development of the Periodic Table\n",
    "`````"
   ]
  },
  {
   "cell_type": "markdown",
   "metadata": {},
   "source": []
  }
 ],
 "metadata": {
  "language_info": {
   "name": "python"
  }
 },
 "nbformat": 4,
 "nbformat_minor": 2
}
