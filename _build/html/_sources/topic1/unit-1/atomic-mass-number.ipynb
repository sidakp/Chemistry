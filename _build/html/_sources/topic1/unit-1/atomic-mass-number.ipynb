{
 "cells": [
  {
   "cell_type": "markdown",
   "metadata": {},
   "source": [
    "# Atomic Number and Mass Number\n",
    "\n",
    "`````{admonition} Specification Point\n",
    ":class: note\n",
    "4.1.1.5 Size and Mass of Atoms\n",
    "`````"
   ]
  },
  {
   "cell_type": "markdown",
   "metadata": {},
   "source": [
    "**Atomic Number:** The number of protons (hence electrons) in an atom.\n",
    "\n",
    "**Mass Number:** The number of protons and neutrons in an atom.\n",
    "\n",
    "The mass number will **always** be bigger than the atomic number as you cannot have 0 neutrons in an atom.\n",
    "\n",
    "```{figure} figure-7.jpg\n",
    "---\n",
    "scale: 30%\n",
    "---\n",
    "Calculating the PEN number of Oxygen\n",
    "```\n",
    "\n",
    "To calculate the number of protons, electrons and neutrons, follow these steps:\n",
    "\n",
    "1. **Number of Protons:** Read off the atomic number\n",
    "2. **Number of Electrons:** Same as the number of protons (In atoms only! Does not apply to ions)\n",
    "3. **Number of Neutrons:** Mass number subtract atomic number\n",
    "\n",
    "---"
   ]
  },
  {
   "cell_type": "markdown",
   "metadata": {},
   "source": [
    "# Exam Style Questions\n",
    "\n",
    "\n",
    "> **Question 1**  \n",
    "> How many protons, neutrons and electrons are in an atom of magnesium. (2 marks)\n",
    ">```{figure} figure-8.jpg\n",
    ">---\n",
    ">scale: 30%\n",
    ">---\n",
    ">Information on an atom of magnesium\n",
    ">```\n",
    "\n",
    "```{admonition} Show/Hide Answer\n",
    ":class: dropdown\n",
    "\n",
    "Protons: 12\n",
    "Electrons: 12\n",
    "Neutrons: 12\n",
    "```\n",
    "\n",
    "> **Question 2**  \n",
    "> Silicon has 14 protons and 14 neutrons. What is its mass number and atomic number? (1 Mark)\n",
    "\n",
    "```{admonition} Show/Hide Answer\n",
    ":class: dropdown\n",
    "\n",
    "Mass Number: 28\n",
    "Atomic Number 14\n",
    "```\n"
   ]
  },
  {
   "cell_type": "markdown",
   "metadata": {},
   "source": []
  }
 ],
 "metadata": {
  "language_info": {
   "name": "python"
  }
 },
 "nbformat": 4,
 "nbformat_minor": 2
}
