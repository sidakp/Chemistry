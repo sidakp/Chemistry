{
 "cells": [
  {
   "cell_type": "markdown",
   "metadata": {},
   "source": [
    "# Paper Chromatography\n",
    "\n",
    "Paper Chromatography is used to separate a mixture of **[soluble substances](/topic1/unit-1/mixtures.ipynb)**. A common example of where chromatography is used would be pen inks or plant pigments. \n",
    "\n",
    "## Apparatus\n",
    "\n",
    "```{figure} figure-6.jpg\n",
    "---\n",
    "scale: 30%\n",
    "---\n",
    "Paper Chromatography Apparatus (Diagrams made in [Chemix](https://chemix.org))\n",
    "```"
   ]
  },
  {
   "cell_type": "markdown",
   "metadata": {},
   "source": [
    "### Stationary and Mobile Phase\n",
    "\n",
    "In chromatography, **stationary phase** refers to apparatus that does not move (chromatography paper) and the **mobile phase** refers to the substance that moves (solvent)."
   ]
  },
  {
   "cell_type": "markdown",
   "metadata": {},
   "source": [
    "## $R_f$ Factor\n",
    "\n",
    "$R_f$ factor (Retention factor) is a ratio that expresses how far the dye/ink has moved along the chromatography paper relative to the start point. It is calculated using this formula:\n",
    "\n",
    "$$\n",
    "R_f \\space \\text{Value} = \\frac{\\text {Distance travelled by the dye}}{\\text {Distance to the solvent front}}\n",
    "$$\n",
    "\n",
    "Where both distances are measured in the same unit. If both units are measured in millimeters (mm), then they will cancel each other out. \n",
    "\n",
    "$$\n",
    "R_f \\space \\text{Value} = \\frac{mm}{mm}\n",
    "$$\n",
    "\n",
    "Algebraically, the two units will cancel meaning that $R_f$ Value is dimensionless (Unitless)."
   ]
  },
  {
   "cell_type": "markdown",
   "metadata": {},
   "source": []
  }
 ],
 "metadata": {
  "language_info": {
   "name": "python"
  }
 },
 "nbformat": 4,
 "nbformat_minor": 2
}
