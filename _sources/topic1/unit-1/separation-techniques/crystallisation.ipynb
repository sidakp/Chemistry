{
 "cells": [
  {
   "cell_type": "markdown",
   "metadata": {},
   "source": [
    "# Crystallisation\n",
    "\n",
    "Crystallisation is used to separate a **[soluble solid](/topic1/unit-1/mixtures.ipynb)** from a **liquid [(solvent)](/topic1/unit-1/mixtures.ipynb)**. A common example of this type of mixture is saltwater. \n",
    "\n",
    "Crystallisation is relatively simple, as if you understood simple distillation, this is the **same**. The only difference is that we do not collect the vapour.\n",
    "\n",
    "## Apparatus\n",
    "\n",
    "```{figure} figure-5.jpg\n",
    "---\n",
    "scale: 30%\n",
    "---\n",
    "Crystallisation Apparatus (Diagrams made in [Chemix](https://chemix.org))\n",
    "```\n",
    "\n",
    "## Explanation\n",
    "\n",
    "1. The saltwater solution is placed in the petri dish (Large surface area for faster evaporation)\n",
    "2. To get larger crystals, do not evaporate all the water and leave the liquid to evaporate over a few days\n",
    "3. When evaporating water you create a **saturated solution** (Where the liquid is unable to dissolve any more solute)\n",
    "4. The salt crystals are left in the petri dish"
   ]
  },
  {
   "cell_type": "markdown",
   "metadata": {},
   "source": []
  }
 ],
 "metadata": {
  "language_info": {
   "name": "python"
  }
 },
 "nbformat": 4,
 "nbformat_minor": 2
}
