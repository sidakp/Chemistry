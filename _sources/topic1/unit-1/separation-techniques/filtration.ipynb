{
 "cells": [
  {
   "cell_type": "markdown",
   "metadata": {},
   "source": [
    "# Filtration\n",
    "\n",
    "Filtration is used to separate an **[insoluble solid](/topic1/unit-1/mixtures.ipynb)** from a **liquid [(solvent)](/topic1/unit-1/mixtures.ipynb)**. A common example of this type of mixture is sand and water. \n",
    "\n",
    "## Apparatus\n",
    "\n",
    "```{figure} figure-2.jpg\n",
    "---\n",
    "scale: 30%\n",
    "---\n",
    "Filtration Apparatus (Diagrams made in [Chemix](https://chemix.org))\n",
    "```"
   ]
  },
  {
   "cell_type": "markdown",
   "metadata": {},
   "source": [
    "## Method\n",
    "\n",
    "1. Set up the funnel by folding a circular piece of filter paper into a cone\n",
    "2. Pour some of the sand + water mixture into the funnel placed on top of a conical flask\n",
    "3. Allow the water to seep through the filter paper.\n",
    "4. Repeat steps 3 and 4 until all the mixture has been poured into the funnel.\n"
   ]
  },
  {
   "cell_type": "markdown",
   "metadata": {},
   "source": [
    "## Explanation\n",
    "\n",
    "The filter paper is **semi-permeable** and contains lots of tiny holes that only liquid molecules can pass through. All solids are too large to pass through so get trapped on the filter paper as residue.\n",
    "\n",
    "Filtration is quick and easy to do, however, any dissolved impurities present in the solvent from the solute do not get filtered by this process.\n",
    "\n",
    "---"
   ]
  },
  {
   "cell_type": "markdown",
   "metadata": {},
   "source": [
    "# Exam Style Questions\n",
    "\n",
    "\n",
    "> **Question 1**  \n",
    "> A student wants to separate sand from saltwater using filtration.  \n",
    "> (a) Name the piece of apparatus needed to filter the sand from the saltwater (1 Mark).  \n",
    "> (b) Explain why the sand remains behind after the mixture is poured through this apparatus (2 Marks).\n",
    "\n",
    "```{admonition} Show/Hide Answer\n",
    ":class: dropdown\n",
    "\n",
    "(a) **Apparatus**: Funnel **or** filter paper  \n",
    "\n",
    "(b) \n",
    "- Sand is **insoluble** (1)\n",
    "- Sand is too large to pass through the filter paper (1)\n",
    "- The holes/pores in the filter paper are large enough to let liquids through (1) \n",
    "```\n",
    "\n",
    "> **Question 2**  \n",
    "> You have a mixture of copper(II) oxide and water. Describe how you would use filtration to obtain the copper(II) oxide as a solid. Mention one safety precaution necessary in this experiment (3 Marks).\n",
    "\n",
    "```{admonition} Show/Hide Answer\n",
    ":class: dropdown\n",
    "\n",
    "- Place a **funnel** with **filter paper** over a conical flask/beaker (1)\n",
    "- Pour the mixture into the funnel (1)\n",
    "- The **water** (filtrate) passes through, leaving the **copper(II) oxide** (as the residue) on the filter paper (1)\n",
    "- **Safety**: Wear gloves and goggles if handling copper(II) compounds, as they may irritate skin and eyes (1)\n",
    "```\n"
   ]
  },
  {
   "cell_type": "markdown",
   "metadata": {},
   "source": []
  }
 ],
 "metadata": {
  "language_info": {
   "name": "python"
  }
 },
 "nbformat": 4,
 "nbformat_minor": 2
}
