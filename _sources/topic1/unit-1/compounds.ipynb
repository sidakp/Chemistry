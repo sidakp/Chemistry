{
 "cells": [
  {
   "cell_type": "markdown",
   "metadata": {},
   "source": [
    "# Compounds\n",
    "\n",
    "`````{admonition} Specification Point\n",
    ":class: note\n",
    "4.1.1.1 Atoms, Elements and Compounds\n",
    "`````"
   ]
  },
  {
   "cell_type": "markdown",
   "metadata": {},
   "source": [
    "## Definition of a Compound\n",
    "\n",
    "A **compound** is a substance formed when **two or more different elements** are **chemically bonded** together in a **fixed proportion**. A chemical reaction is needed to split them back into their original elements.\n",
    "\n",
    "### Key Points:\n",
    "1. **Fixed Proportion**: Compounds always have the same ratio of the elements that make them (for example, water ($H_2O$) has a 2:1 ratio of hydrogen to oxygen).  \n",
    "2. **Chemical Bonding**: The elements in a compound are joined by **chemical bonds** (covalent, ionic, or metallic), giving the compound properties different from the individual elements.  \n",
    "3. **New Properties**: The compound’s **physical and chemical properties** usually differ from the properties of the elements that formed it.\n",
    "\n",
    "## Comparing Compounds and Mixtures\n",
    "\n",
    "| Aspect              | Compounds                                                 | Mixtures                                                       |\n",
    "|---------------------|-----------------------------------------------------------|----------------------------------------------------------------|\n",
    "| Composition         | Fixed ratio of elements (chemical formula)                | Variable proportions; no fixed formula                          |\n",
    "| Separation Method   | Requires chemical separation (e.g., electrolysis)         | Physical methods (e.g., filtration, distillation)              |\n",
    "| Properties          | Often very different from constituent elements            | Retain many individual properties of each component            |\n",
    "| Formation           | Occurs via chemical bonding (reactions)                   | Occurs by physically mixing; no chemical bonds form            |\n",
    "\n",
    "\n",
    "## Naming Compounds\n",
    "\n",
    "When naming chemical compounds, there are a few general rules to keep in mind:\n",
    "\n",
    "1. **Metal + Non-metal (Ionic Compounds)**  \n",
    "   - The **metal** name usually stays the same (e.g., “sodium,” “calcium”).  \n",
    "   - The **non-metal** name often ends in `-ide` (e.g., “chloride,” “oxide”).  \n",
    "   - **Example**: $NaCl$ is “Sodium Chloride” (not “Sodium Chlorine”).\n",
    "\n",
    "2. **Compounds Containing Oxygen**  \n",
    "   - If an oxygen-containing ion is involved, the ending usually becomes `-ate`.  \n",
    "   - **Example**: $Na_2SO_4$ (sodium sulfate) rather than “sodium sulfuride.” The `-ate` indicates the presence of oxygen with sulfur.\n",
    "\n",
    "3. **Prefix for Non-metal Combinations (Covalent Molecules)**  \n",
    "   - When two **non-metal** elements combine, prefixes may be used to show the number of atoms (e.g., “mono-”, “di-”, “tri-”).  \n",
    "   - **Example**: $CO_2$ is “Carbon Dioxide” (di- means two oxygens).  \n",
    "   - If there’s only one atom of the first element, the “mono-” prefix is often omitted (e.g., $CO$ is “Carbon Monoxide,” not “Monocarbon Monoxide”).\n",
    "\n",
    "4. **Transition Metals with Multiple Charges**  \n",
    "   - Some metals (especially transition metals) can form more than one ion. In these cases, a **Roman numeral** may show the charge of the metal ion.  \n",
    "   - **Example**: $FeCl_2$ is “Iron(II) Chloride,” while $FeCl_3$ is “Iron(III) Chloride.”\n"
   ]
  },
  {
   "cell_type": "markdown",
   "metadata": {},
   "source": [
    "## Visualising Compounds\n",
    "\n",
    "Below, is a 3D representation of $H_2O$ using [PubChem 3D Compound Viewer](https://pubchem.ncbi.nlm.nih.gov/pc3d/). To work out which atom is which, a key can be included. However, we know that there are 2 hydrogen atoms and 1 oxygen atom. Therefore, the red sphere represents the central oxygen atom and the grey spheres represent the hydrogen atoms bonded around the oxygen.\n",
    "\n",
    "`````{admonition} Useful Information\n",
    ":class: tip\n",
    "In the classroom, **molymods** can be used to build molecules in 3D identical to the one on the screen below. They allow you to illustrate all types of bonds between atoms as covered in unit 2.\n",
    "`````"
   ]
  },
  {
   "cell_type": "code",
   "execution_count": 48,
   "metadata": {
    "tags": [
     "remove-input"
    ]
   },
   "outputs": [
    {
     "data": {
      "application/3dmoljs_load.v0": "<div id=\"3dmolviewer_17370418913404443\"  style=\"position: relative; width: 640px; height: 480px;\">\n        <p id=\"3dmolwarning_17370418913404443\" style=\"background-color:#ffcccc;color:black\">3Dmol.js failed to load for some reason.  Please check your browser console for error messages.<br></p>\n        </div>\n<script>\n\nvar loadScriptAsync = function(uri){\n  return new Promise((resolve, reject) => {\n    //this is to ignore the existence of requirejs amd\n    var savedexports, savedmodule;\n    if (typeof exports !== 'undefined') savedexports = exports;\n    else exports = {}\n    if (typeof module !== 'undefined') savedmodule = module;\n    else module = {}\n\n    var tag = document.createElement('script');\n    tag.src = uri;\n    tag.async = true;\n    tag.onload = () => {\n        exports = savedexports;\n        module = savedmodule;\n        resolve();\n    };\n  var firstScriptTag = document.getElementsByTagName('script')[0];\n  firstScriptTag.parentNode.insertBefore(tag, firstScriptTag);\n});\n};\n\nif(typeof $3Dmolpromise === 'undefined') {\n$3Dmolpromise = null;\n  $3Dmolpromise = loadScriptAsync('https://cdnjs.cloudflare.com/ajax/libs/3Dmol/2.4.2/3Dmol-min.js');\n}\n\nvar viewer_17370418913404443 = null;\nvar warn = document.getElementById(\"3dmolwarning_17370418913404443\");\nif(warn) {\n    warn.parentNode.removeChild(warn);\n}\n$3Dmolpromise.then(function() {\nviewer_17370418913404443 = $3Dmol.createViewer(document.getElementById(\"3dmolviewer_17370418913404443\"),{backgroundColor:\"white\"});\n$3Dmol.download(\"cid:962\", viewer_17370418913404443, {}, function() {\nviewer_17370418913404443.zoomTo();\n\tviewer_17370418913404443.setStyle({\"stick\": {\"radius\": 0.1}, \"sphere\": {\"scale\": 0.25}});\n\tviewer_17370418913404443.setBackgroundColor(\"#FFFFFF\");\nviewer_17370418913404443.render();\n})\n});\n</script>",
      "text/html": [
       "<div id=\"3dmolviewer_17370418913404443\"  style=\"position: relative; width: 640px; height: 480px;\">\n",
       "        <p id=\"3dmolwarning_17370418913404443\" style=\"background-color:#ffcccc;color:black\">3Dmol.js failed to load for some reason.  Please check your browser console for error messages.<br></p>\n",
       "        </div>\n",
       "<script>\n",
       "\n",
       "var loadScriptAsync = function(uri){\n",
       "  return new Promise((resolve, reject) => {\n",
       "    //this is to ignore the existence of requirejs amd\n",
       "    var savedexports, savedmodule;\n",
       "    if (typeof exports !== 'undefined') savedexports = exports;\n",
       "    else exports = {}\n",
       "    if (typeof module !== 'undefined') savedmodule = module;\n",
       "    else module = {}\n",
       "\n",
       "    var tag = document.createElement('script');\n",
       "    tag.src = uri;\n",
       "    tag.async = true;\n",
       "    tag.onload = () => {\n",
       "        exports = savedexports;\n",
       "        module = savedmodule;\n",
       "        resolve();\n",
       "    };\n",
       "  var firstScriptTag = document.getElementsByTagName('script')[0];\n",
       "  firstScriptTag.parentNode.insertBefore(tag, firstScriptTag);\n",
       "});\n",
       "};\n",
       "\n",
       "if(typeof $3Dmolpromise === 'undefined') {\n",
       "$3Dmolpromise = null;\n",
       "  $3Dmolpromise = loadScriptAsync('https://cdnjs.cloudflare.com/ajax/libs/3Dmol/2.4.2/3Dmol-min.js');\n",
       "}\n",
       "\n",
       "var viewer_17370418913404443 = null;\n",
       "var warn = document.getElementById(\"3dmolwarning_17370418913404443\");\n",
       "if(warn) {\n",
       "    warn.parentNode.removeChild(warn);\n",
       "}\n",
       "$3Dmolpromise.then(function() {\n",
       "viewer_17370418913404443 = $3Dmol.createViewer(document.getElementById(\"3dmolviewer_17370418913404443\"),{backgroundColor:\"white\"});\n",
       "$3Dmol.download(\"cid:962\", viewer_17370418913404443, {}, function() {\n",
       "viewer_17370418913404443.zoomTo();\n",
       "\tviewer_17370418913404443.setStyle({\"stick\": {\"radius\": 0.1}, \"sphere\": {\"scale\": 0.25}});\n",
       "\tviewer_17370418913404443.setBackgroundColor(\"#FFFFFF\");\n",
       "viewer_17370418913404443.render();\n",
       "})\n",
       "});\n",
       "</script>"
      ]
     },
     "metadata": {},
     "output_type": "display_data"
    }
   ],
   "source": [
    "import py3Dmol\n",
    "\n",
    "# Lookup a molecule using its CID (PubChem Compound Identification) code\n",
    "p=py3Dmol.view(query='cid:962')\n",
    "\n",
    "# Set the render style\n",
    "p.setStyle({'stick': {'radius': .1}, 'sphere': {'scale': 0.25}})\n",
    "p.setBackgroundColor('#FFFFFF')  # transparent or '0x000000' for black\n",
    "p.show()"
   ]
  },
  {
   "cell_type": "markdown",
   "metadata": {},
   "source": [
    "### Controls\n",
    "\n",
    "- Hold and drag to rotate the molecule\n",
    "- If using a mouse, press the scroll wheel to move the molecule around without rotation\n",
    "- Use a trackpad or mouse to zoom in appropriately with the scroll wheel."
   ]
  },
  {
   "cell_type": "markdown",
   "metadata": {},
   "source": []
  }
 ],
 "metadata": {
  "kernelspec": {
   "display_name": "Python 3",
   "language": "python",
   "name": "python3"
  },
  "language_info": {
   "codemirror_mode": {
    "name": "ipython",
    "version": 3
   },
   "file_extension": ".py",
   "mimetype": "text/x-python",
   "name": "python",
   "nbconvert_exporter": "python",
   "pygments_lexer": "ipython3",
   "version": "3.7.7"
  }
 },
 "nbformat": 4,
 "nbformat_minor": 2
}
