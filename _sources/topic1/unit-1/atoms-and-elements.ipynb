{
 "cells": [
  {
   "cell_type": "markdown",
   "metadata": {},
   "source": [
    "# Atoms and Elements\n",
    "\n",
    "```{admonition} Specification Points\n",
    ":class: note\n",
    "- 4.1.1.1 Atoms, Elements and Compounds\n",
    "- 4.1.1.4 Relative Electrical Charges of Subatomic Particles\n",
    "- 4.1.1.5 Size and Mass of Atoms\n",
    "```"
   ]
  },
  {
   "cell_type": "markdown",
   "metadata": {},
   "source": [
    "## Atoms\n",
    "\n",
    "**Atom**: The smallest part of an element that can exist.\n",
    "\n",
    "Atoms are found in **all substances** and consist of three subatomic particles:\n",
    "\n",
    "1. Electrons - Negatively charged and orbits the nucleus in **electron shells**\n",
    "2. Protons - Positively charged and are located in the nucleus\n",
    "3. Neutrons - Neutrally charged and also located in the nucleus\n",
    "\n",
    "When we speak about 'charges' in Chemistry, we are referring to either positive or negative charges (denoted by '+' or '-' respectively). You have to be aware of the relative charges and masses of all three subatomic particles.\n",
    "\n",
    "| Subatomic Particle | Relative Charge | Relative Mass |\n",
    "| --- | --- | --- |\n",
    "| Electron | -1 | 0 **or** $\\frac{1}{2000}$ |\n",
    "| Proton | +1 | 1 |\n",
    "| Neutron | 0 | 1 |\n",
    "\n",
    "```{admonition} Exam Tip\n",
    ":class: tip\n",
    "When writing the relative mass in an exam, you do **not** need to specifify units in your answer as these are just relative and have a mass much less than 1 gram.\n",
    "```\n"
   ]
  },
  {
   "cell_type": "markdown",
   "metadata": {},
   "source": [
    "### Drawing an Atom\n",
    "\n",
    "You have to be able to produce a sketch of an atom as this will be important in the topic covering [Electronic Structures](electronic-structure.ipynb). A general model of the atom has been sketched below. \n",
    "\n",
    "```{figure} figure-1.jpg\n",
    "---\n",
    "scale: 60%\n",
    "---\n",
    "General Drawing of an Atom\n",
    "```"
   ]
  },
  {
   "cell_type": "markdown",
   "metadata": {},
   "source": [
    "## Elements\n",
    "\n",
    "Now that we know that all substances are made from atoms, if we scale up to elements, they **must** also be made from atoms too based off our definition. \n",
    "\n",
    "An element is a substance made up of only one type of atom. All atoms of the same element have the same number of protons in their nucleus, which is called the atomic number. This atomic number uniquely identifies each element, meaning all atoms with one proton are hydrogen, all atoms with two protons are helium, and so on.\n",
    "\n",
    "**Element**: A substance consisting of the same atoms with the same number of protons.\n",
    "\n",
    "If you look at the periodic table, the proton number increases by 1 as you move from left to right. This means that the number of protons in each atom is different. Therefore, when comparing two elements to each other, their atoms **must** contain a different amount of protons."
   ]
  },
  {
   "cell_type": "markdown",
   "metadata": {},
   "source": []
  }
 ],
 "metadata": {
  "language_info": {
   "name": "python"
  }
 },
 "nbformat": 4,
 "nbformat_minor": 2
}
